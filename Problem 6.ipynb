{
 "cells": [
  {
   "cell_type": "markdown",
   "metadata": {},
   "source": [
    "## Sum square difference\n",
    "\n",
    "The sum of the squares of the first ten natural numbers is,\n",
    "\n",
    "12+22+...+102=385\n",
    "The square of the sum of the first ten natural numbers is,\n",
    "\n",
    "(1+2+...+10)2=552=3025\n",
    "Hence the difference between the sum of the squares of the first ten natural numbers and the square of the sum is 3025−385=2640.\n",
    "\n",
    "Find the difference between the sum of the squares of the first one hundred natural numbers and the square of the sum."
   ]
  },
  {
   "cell_type": "code",
   "execution_count": 7,
   "metadata": {},
   "outputs": [
    {
     "name": "stdout",
     "output_type": "stream",
     "text": [
      "The difference between the sum of the squares of the first one hundred natural numbers and the square of the sum is:  25164150\n"
     ]
    }
   ],
   "source": [
    "numbers = [x for x in range(1,101)]\n",
    "\n",
    "sum_of_squares = sum([x**2 for x in numbers])\n",
    "\n",
    "square_of_sum=sum(numbers)**2\n",
    "\n",
    "difference = square_of_sum - sum_of_squares\n",
    "\n",
    "print(\"The difference between the sum of the squares of the first one hundred natural numbers and the square of the sum is: \", difference)\n",
    "    \n"
   ]
  },
  {
   "cell_type": "code",
   "execution_count": null,
   "metadata": {},
   "outputs": [],
   "source": []
  }
 ],
 "metadata": {
  "kernelspec": {
   "display_name": "Python 3",
   "language": "python",
   "name": "python3"
  },
  "language_info": {
   "codemirror_mode": {
    "name": "ipython",
    "version": 3
   },
   "file_extension": ".py",
   "mimetype": "text/x-python",
   "name": "python",
   "nbconvert_exporter": "python",
   "pygments_lexer": "ipython3",
   "version": "3.7.6"
  }
 },
 "nbformat": 4,
 "nbformat_minor": 4
}
