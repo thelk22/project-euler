{
 "cells": [
  {
   "cell_type": "markdown",
   "metadata": {},
   "source": [
    "## Largest palindrome product\n",
    "\n",
    "A palindromic number reads the same both ways. The largest palindrome made from the product of two 2-digit numbers is 9009 = 91 × 99.\n",
    "\n",
    "Find the largest palindrome made from the product of two 3-digit numbers."
   ]
  },
  {
   "cell_type": "code",
   "execution_count": 5,
   "metadata": {},
   "outputs": [
    {
     "name": "stdout",
     "output_type": "stream",
     "text": [
      "906609 [913, 993]\n"
     ]
    }
   ],
   "source": [
    "def isPalindrome(n):\n",
    "    numbers = [x for x in str(n)]\n",
    "    reverse = numbers[::-1]\n",
    "    if (numbers == reverse):\n",
    "        return True\n",
    "    else:\n",
    "        return False\n",
    "\n",
    "result = 0\n",
    "products = [0,0]\n",
    "i = 100\n",
    "j = 100\n",
    "while i < 1000:\n",
    "    while j < 1000:\n",
    "        n = i*j\n",
    "        if(isPalindrome(n) and n > result):\n",
    "            result = n\n",
    "            products = [i,j]\n",
    "        j+=1\n",
    "    i+=1\n",
    "    j=100\n",
    "print(result, products)\n"
   ]
  },
  {
   "cell_type": "code",
   "execution_count": null,
   "metadata": {},
   "outputs": [],
   "source": []
  }
 ],
 "metadata": {
  "kernelspec": {
   "display_name": "Python 3",
   "language": "python",
   "name": "python3"
  },
  "language_info": {
   "codemirror_mode": {
    "name": "ipython",
    "version": 3
   },
   "file_extension": ".py",
   "mimetype": "text/x-python",
   "name": "python",
   "nbconvert_exporter": "python",
   "pygments_lexer": "ipython3",
   "version": "3.7.6"
  }
 },
 "nbformat": 4,
 "nbformat_minor": 4
}
