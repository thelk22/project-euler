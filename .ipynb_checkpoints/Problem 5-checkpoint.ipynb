{
 "cells": [
  {
   "cell_type": "markdown",
   "metadata": {},
   "source": [
    "## Smallest multiple\n",
    "\n",
    "2520 is the smallest number that can be divided by each of the numbers from 1 to 10 without any remainder.\n",
    "\n",
    "What is the smallest positive number that is evenly divisible by all of the numbers from 1 to 20?"
   ]
  },
  {
   "cell_type": "code",
   "execution_count": 21,
   "metadata": {},
   "outputs": [
    {
     "name": "stdout",
     "output_type": "stream",
     "text": [
      "232792560\n"
     ]
    }
   ],
   "source": [
    "import numpy as np\n",
    "\n",
    "divisors = [x for x in range(1,21)]\n",
    "\n",
    "# 20 is divisible by 1, 2, 4, 5, 10\n",
    "divisors.remove(1)\n",
    "divisors.remove(2)\n",
    "divisors.remove(4)\n",
    "divisors.remove(5)\n",
    "divisors.remove(10)\n",
    "# 18 is divisible by 3, 9 \n",
    "divisors.remove(3)\n",
    "divisors.remove(9)\n",
    "# 16 is divisibly by 8\n",
    "divisors.remove(8)\n",
    "# 14 is divisible by 7\n",
    "divisors.remove(7)\n",
    "# 12 is divisible by 6\n",
    "divisors.remove(6)\n",
    "\n",
    "divisors\n",
    "\n",
    "answer = np.prod(divisors)\n",
    "\n",
    "answer\n",
    "i = 20\n",
    "while i < answer:\n",
    "    check = True\n",
    "    for j in divisors:\n",
    "        if (i%j!=0):\n",
    "            check = False\n",
    "            break\n",
    "    if (check):\n",
    "        answer = i\n",
    "        break\n",
    "    i+=20\n",
    "print(i)\n",
    "\n"
   ]
  },
  {
   "cell_type": "code",
   "execution_count": null,
   "metadata": {},
   "outputs": [],
   "source": []
  }
 ],
 "metadata": {
  "kernelspec": {
   "display_name": "Python 3",
   "language": "python",
   "name": "python3"
  },
  "language_info": {
   "codemirror_mode": {
    "name": "ipython",
    "version": 3
   },
   "file_extension": ".py",
   "mimetype": "text/x-python",
   "name": "python",
   "nbconvert_exporter": "python",
   "pygments_lexer": "ipython3",
   "version": "3.7.6"
  }
 },
 "nbformat": 4,
 "nbformat_minor": 4
}
