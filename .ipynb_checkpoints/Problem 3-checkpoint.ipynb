{
 "cells": [
  {
   "cell_type": "markdown",
   "metadata": {},
   "source": [
    "## Largest Prime Factor\n",
    "\n",
    "The prime factors of 13195 are 5, 7, 13 and 29.\n",
    "\n",
    "What is the largest prime factor of the number 600851475143 ?"
   ]
  },
  {
   "cell_type": "code",
   "execution_count": 32,
   "metadata": {},
   "outputs": [
    {
     "name": "stdout",
     "output_type": "stream",
     "text": [
      "Largest prime factor =  6857.0\n"
     ]
    }
   ],
   "source": [
    "def largestPrimeFactor(n):\n",
    "    result=n\n",
    "    i=2\n",
    "    while(i**2 < result):\n",
    "        while(result%i==0):\n",
    "            result=result/i\n",
    "        i+=1\n",
    "    return result\n",
    "    \n",
    "print(\"Largest prime factor = \", largestPrimeFactor(600851475143))\n"
   ]
  },
  {
   "cell_type": "code",
   "execution_count": null,
   "metadata": {},
   "outputs": [],
   "source": []
  }
 ],
 "metadata": {
  "kernelspec": {
   "display_name": "Python 3",
   "language": "python",
   "name": "python3"
  }
 },
 "nbformat": 4,
 "nbformat_minor": 4
}
